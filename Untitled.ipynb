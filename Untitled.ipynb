{
 "cells": [
  {
   "cell_type": "code",
   "execution_count": null,
   "metadata": {},
   "outputs": [],
   "source": [
    "from torch.utils.data import Dataset\n",
    "import random\n",
    "import torch\n",
    "import os\n",
    "import torch.nn as nn\n",
    "from tqdm import tqdm\n",
    "\n",
    "import pandas as pd\n",
    "\n",
    "import numpy as np"
   ]
  },
  {
   "cell_type": "code",
   "execution_count": null,
   "metadata": {},
   "outputs": [],
   "source": [
    "class ClfDataset(Dataset):\n",
    "\n",
    "    def __init__(self, train=True):\n",
    "        self.train = train\n",
    "        data_dir = './dataset/'\n",
    "        # choose the dataset\n",
    "        patients_train = os.listdir(data_dir+'train_val/')\n",
    "        patients_train.sort(key= lambda x:int(x[9:-4]))\n",
    "        patients_test = os.listdir(data_dir+'test/')\n",
    "        patients_test.sort(key= lambda x:int(x[9:-4]))\n",
    "        labels_df = pd.read_csv('./dataset/info.csv',index_col=0)\n",
    "\n",
    "        self.data_train = []\n",
    "        self.data_test = []\n",
    "        self.labels = []\n",
    "        self.names = []\n",
    "\n",
    "        for num_train, patient_train in enumerate(patients_train):\n",
    "            patient_train_name = patient_train[0:-4]\n",
    "            self.names.append(patient_train_name)\n",
    "            label = labels_df.get_value(patient_train_name, 'lable')\n",
    "            path_train = data_dir + 'train_val/' + patient_train\n",
    "            img_data_train = np.load(path_train)\n",
    "            voxel_train = img_data_train['voxel'].astype(np.int32)\n",
    "            voxel_train_crop = voxel_train[10:90,10:90,10:90]\n",
    "            self.data_train.append(voxel_train_crop)\n",
    "            self.labels.append(label)\n",
    "\n",
    "        for num_test, patient_test in enumerate(patients_test):\n",
    "            self.names.append(patient_test[0:-4])\n",
    "            path_test = data_dir + 'test/' + patient_test\n",
    "            img_data_test = np.load(path_test)\n",
    "            voxel_test = img_data_test['voxel'].astype(np.int32)\n",
    "            voxel_test_crop = voxel_test[10:90,10:90,10:90]\n",
    "            self.data_test.append(voxel_test_crop)\n",
    "    \n",
    "    def __getitem__(self, item):\n",
    "        if self.train:\n",
    "            patient_data_train = self.data_train[item]\n",
    "            patient_label = self.labels[item]\n",
    "            patient_name_train = self.names[item]\n",
    "            return patient_data_train, patient_label, patient_name_train\n",
    "        else:\n",
    "            patient_data_test = self.data_test[item]\n",
    "            patient_name_test = self.names[item]\n",
    "            return patient_data_test, patient_name_test\n",
    "        \n",
    "    def __len__(self):\n",
    "        if self.train:\n",
    "            return len(self.label)\n",
    "        else:\n",
    "            return len(self.data_test)"
   ]
  }
 ],
 "metadata": {
  "kernelspec": {
   "display_name": "Python 3",
   "language": "python",
   "name": "python3"
  },
  "language_info": {
   "codemirror_mode": {
    "name": "ipython",
    "version": 3
   },
   "file_extension": ".py",
   "mimetype": "text/x-python",
   "name": "python",
   "nbconvert_exporter": "python",
   "pygments_lexer": "ipython3",
   "version": "3.7.3"
  }
 },
 "nbformat": 4,
 "nbformat_minor": 2
}
