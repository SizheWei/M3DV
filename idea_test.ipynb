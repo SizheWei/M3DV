{
 "cells": [
  {
   "cell_type": "code",
   "execution_count": 1,
   "metadata": {},
   "outputs": [
    {
     "name": "stdout",
     "output_type": "stream",
     "text": [
      "0\n",
      "j\n",
      "l\n",
      "2\n",
      "s\n",
      "z\n"
     ]
    }
   ],
   "source": [
    "adic = ['j','l','s','z']\n",
    "for num, love in enumerate(adic):\n",
    "    if num % 2==0:\n",
    "        print(num)\n",
    "    print(love)"
   ]
  },
  {
   "cell_type": "code",
   "execution_count": 2,
   "metadata": {},
   "outputs": [],
   "source": [
    "import torch\n",
    "import torch.nn as nn\n",
    "\n",
    "batch_size = 5\n",
    "nb_classes = 2\n",
    "in_features = 10\n",
    "\n",
    "model = nn.Linear(in_features, nb_classes)\n",
    "criterion = nn.CrossEntropyLoss()\n",
    "\n",
    "x = torch.randn(batch_size, in_features)\n",
    "target = torch.empty(batch_size, dtype=torch.long).random_(nb_classes)\n",
    "\n",
    "output = model(x)\n",
    "loss = criterion(output, target)\n",
    "loss.backward()"
   ]
  },
  {
   "cell_type": "code",
   "execution_count": 3,
   "metadata": {},
   "outputs": [
    {
     "data": {
      "text/plain": [
       "tensor([[-1.3232,  0.3105],\n",
       "        [-0.3345,  0.2244],\n",
       "        [ 0.6879,  1.1444],\n",
       "        [ 0.1577,  0.3084],\n",
       "        [-0.0485, -0.1567]], grad_fn=<AddmmBackward>)"
      ]
     },
     "execution_count": 3,
     "metadata": {},
     "output_type": "execute_result"
    }
   ],
   "source": [
    "output"
   ]
  },
  {
   "cell_type": "code",
   "execution_count": 4,
   "metadata": {},
   "outputs": [
    {
     "data": {
      "text/plain": [
       "tensor([1, 0, 1, 0, 0])"
      ]
     },
     "execution_count": 4,
     "metadata": {},
     "output_type": "execute_result"
    }
   ],
   "source": [
    "target"
   ]
  },
  {
   "cell_type": "code",
   "execution_count": null,
   "metadata": {},
   "outputs": [],
   "source": []
  }
 ],
 "metadata": {
  "kernelspec": {
   "display_name": "Python 3",
   "language": "python",
   "name": "python3"
  },
  "language_info": {
   "codemirror_mode": {
    "name": "ipython",
    "version": 3
   },
   "file_extension": ".py",
   "mimetype": "text/x-python",
   "name": "python",
   "nbconvert_exporter": "python",
   "pygments_lexer": "ipython3",
   "version": "3.7.3"
  }
 },
 "nbformat": 4,
 "nbformat_minor": 2
}
