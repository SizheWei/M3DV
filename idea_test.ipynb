{
 "cells": [
  {
   "cell_type": "code",
   "execution_count": 66,
   "metadata": {},
   "outputs": [],
   "source": [
    "from torch.utils.data import Dataset\n",
    "import random\n",
    "import torch\n",
    "import os\n",
    "from torch.utils.data import DataLoader\n",
    "\n",
    "import pandas as pd\n",
    "\n",
    "import numpy as np\n",
    "\n",
    "class ClfDataset(Dataset):\n",
    "\n",
    "    def __init__(self, train=True):\n",
    "        self.train = train\n",
    "        data_dir = './dataset/'\n",
    "        # choose the dataset\n",
    "        patients_train = os.listdir(data_dir+'train_val/')\n",
    "        patients_test = os.listdir(data_dir+'test/')\n",
    "        labels_df = pd.read_csv('./dataset/info.csv',index_col=0)\n",
    "\n",
    "        self.data_train = []\n",
    "        self.data_test = []\n",
    "        self.label = []\n",
    "\n",
    "        for num, patient in enumerate(patients_train):\n",
    "            patient_name = patient[0:-4]\n",
    "            label = labels_df.get_value(patient_name, 'lable')\n",
    "            path = data_dir + 'train_val/' + patient\n",
    "            img_data = np.load(path)\n",
    "            voxel = img_data['voxel'].astype(np.int32)\n",
    "            self.data_train.append(voxel)\n",
    "            self.label.append(label)\n",
    "\n",
    "        for num, patient in enumerate(patients_test):\n",
    "            path = data_dir + 'test/' + patient\n",
    "            img_data = np.load(path)\n",
    "            voxel = img_data['voxel'].astype(np.int32)\n",
    "            self.data_test.append(voxel)\n",
    "    \n",
    "    def __getitem__(self, item):\n",
    "        if self.train:\n",
    "            patient_data = self.data_train[item]\n",
    "            patient_label = self.label[item]\n",
    "            return patient_data, patient_label\n",
    "        else:\n",
    "            patient_data = self.data_test[item]\n",
    "            return patient_data\n",
    "        \n",
    "    def __len__(self):\n",
    "        return len(self.label)"
   ]
  },
  {
   "cell_type": "code",
   "execution_count": 67,
   "metadata": {},
   "outputs": [
    {
     "name": "stderr",
     "output_type": "stream",
     "text": [
      "/home/vivi/anaconda3/envs/3dunet/lib/python3.7/site-packages/ipykernel_launcher.py:27: FutureWarning: get_value is deprecated and will be removed in a future release. Please use .at[] or .iat[] accessors instead\n"
     ]
    }
   ],
   "source": [
    "data_ineed = ClfDataset(train=True)\n",
    "train_data_loader = DataLoader(dataset=data_ineed, batch_size=32, shuffle=True)\n",
    "\n"
   ]
  },
  {
   "cell_type": "code",
   "execution_count": 68,
   "metadata": {},
   "outputs": [
    {
     "data": {
      "text/plain": [
       "array([[[164, 176, 185, ..., 176, 172, 170],\n",
       "        [172, 181, 172, ..., 176, 174, 170],\n",
       "        [176, 170, 163, ..., 178, 178, 185],\n",
       "        ...,\n",
       "        [191, 255, 255, ..., 215, 186, 184],\n",
       "        [185, 255, 255, ..., 220, 186, 185],\n",
       "        [192, 220, 255, ..., 222, 191, 199]],\n",
       "\n",
       "       [[163, 168, 178, ..., 175, 174, 171],\n",
       "        [166, 175, 173, ..., 181, 178, 172],\n",
       "        [172, 171, 167, ..., 182, 177, 183],\n",
       "        ...,\n",
       "        [181, 255, 255, ..., 216, 181, 181],\n",
       "        [178, 215, 255, ..., 225, 181, 185],\n",
       "        [183, 190, 255, ..., 222, 183, 193]],\n",
       "\n",
       "       [[161, 163, 170, ..., 174, 176, 170],\n",
       "        [164, 171, 171, ..., 177, 176, 174],\n",
       "        [169, 171, 169, ..., 178, 176, 179],\n",
       "        ...,\n",
       "        [189, 244, 255, ..., 214, 177, 182],\n",
       "        [187, 204, 255, ..., 229, 181, 183],\n",
       "        [191, 183, 255, ..., 222, 184, 194]],\n",
       "\n",
       "       ...,\n",
       "\n",
       "       [[  5,   2,   3, ...,   6,   5,   1],\n",
       "        [  4,   1,   4, ...,   6,   4,   4],\n",
       "        [  2,   2,   5, ...,   6,   5,   3],\n",
       "        ...,\n",
       "        [199, 199, 201, ..., 243, 251, 255],\n",
       "        [197, 194, 186, ..., 217, 206, 222],\n",
       "        [211, 213, 197, ..., 208, 207, 200]],\n",
       "\n",
       "       [[  6,   4,   4, ...,   5,   7,   5],\n",
       "        [  6,   1,   7, ...,   4,   5,   6],\n",
       "        [  2,   0,   6, ...,   2,   4,   4],\n",
       "        ...,\n",
       "        [197, 198, 204, ..., 236, 216, 233],\n",
       "        [212, 204, 199, ..., 223, 191, 189],\n",
       "        [230, 221, 206, ..., 241, 220, 197]],\n",
       "\n",
       "       [[  7,   6,   3, ...,   5,   4,   6],\n",
       "        [  6,   1,   7, ...,   5,   4,   6],\n",
       "        [  4,   0,   5, ...,   3,   3,   4],\n",
       "        ...,\n",
       "        [213, 209, 223, ..., 238, 203, 202],\n",
       "        [232, 220, 234, ..., 249, 207, 201],\n",
       "        [234, 231, 236, ..., 255, 255, 225]]], dtype=int32)"
      ]
     },
     "execution_count": 68,
     "metadata": {},
     "output_type": "execute_result"
    }
   ],
   "source": [
    "data_ineed[100][0]"
   ]
  },
  {
   "cell_type": "code",
   "execution_count": null,
   "metadata": {},
   "outputs": [],
   "source": []
  }
 ],
 "metadata": {
  "kernelspec": {
   "display_name": "Python 3",
   "language": "python",
   "name": "python3"
  },
  "language_info": {
   "codemirror_mode": {
    "name": "ipython",
    "version": 3
   },
   "file_extension": ".py",
   "mimetype": "text/x-python",
   "name": "python",
   "nbconvert_exporter": "python",
   "pygments_lexer": "ipython3",
   "version": "3.7.3"
  }
 },
 "nbformat": 4,
 "nbformat_minor": 2
}
