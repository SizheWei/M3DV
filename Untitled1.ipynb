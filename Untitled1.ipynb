{
 "cells": [
  {
   "cell_type": "code",
   "execution_count": null,
   "metadata": {},
   "outputs": [],
   "source": []
  },
  {
   "cell_type": "code",
   "execution_count": 1,
   "metadata": {},
   "outputs": [],
   "source": [
    "from torch.utils.data import Dataset\n",
    "import random\n",
    "import torch\n",
    "import os\n",
    "import torch.nn as nn\n",
    "from tqdm import tqdm\n",
    "\n",
    "import pandas as pd\n",
    "\n",
    "import numpy as np"
   ]
  },
  {
   "cell_type": "code",
   "execution_count": 2,
   "metadata": {},
   "outputs": [
    {
     "name": "stderr",
     "output_type": "stream",
     "text": [
      "/home/vivi/anaconda3/envs/3dunet/lib/python3.7/site-packages/ipykernel_launcher.py:10: FutureWarning: get_value is deprecated and will be removed in a future release. Please use .at[] or .iat[] accessors instead\n",
      "  # Remove the CWD from sys.path while we load stuff.\n"
     ]
    }
   ],
   "source": [
    "data_dir = './dataset/'\n",
    "    # choose the dataset\n",
    "patients_train = os.listdir(data_dir+'train_val/')\n",
    "patients_train.sort()\n",
    "labels_df = pd.read_csv('./dataset/info.csv',index_col=0)\n",
    "labels = []\n",
    "data_train = []\n",
    "for num, patient in enumerate(patients_train):\n",
    "    patient_name = patient[0:-4]\n",
    "    label = labels_df.get_value(patient_name, 'lable')\n",
    "    path = data_dir + 'train_val/' + patient\n",
    "    img_data = np.load(path)\n",
    "    voxel = img_data['voxel'].astype(np.int32)\n",
    "    voxel_crop = voxel[34:66,34:66,34:66]\n",
    "    data_train.append(voxel_crop)\n",
    "    labels.append(label)\n",
    "    if num==1:\n",
    "        break"
   ]
  },
  {
   "cell_type": "code",
   "execution_count": 3,
   "metadata": {},
   "outputs": [
    {
     "data": {
      "text/plain": [
       "'candidate10.npz'"
      ]
     },
     "execution_count": 3,
     "metadata": {},
     "output_type": "execute_result"
    }
   ],
   "source": [
    "patient"
   ]
  },
  {
   "cell_type": "code",
   "execution_count": 4,
   "metadata": {},
   "outputs": [
    {
     "data": {
      "text/plain": [
       "1"
      ]
     },
     "execution_count": 4,
     "metadata": {},
     "output_type": "execute_result"
    }
   ],
   "source": [
    "label"
   ]
  },
  {
   "cell_type": "code",
   "execution_count": 11,
   "metadata": {},
   "outputs": [
    {
     "data": {
      "text/plain": [
       "array([[[183, 189, 180, ..., 177, 172, 182],\n",
       "        [182, 190, 184, ..., 185, 184, 182],\n",
       "        [187, 191, 180, ..., 189, 190, 186],\n",
       "        ...,\n",
       "        [169, 169, 168, ..., 184, 184, 189],\n",
       "        [169, 166, 165, ..., 195, 201, 200],\n",
       "        [161, 166, 167, ..., 189, 186, 190]],\n",
       "\n",
       "       [[182, 188, 182, ..., 175, 172, 181],\n",
       "        [181, 189, 186, ..., 189, 182, 179],\n",
       "        [181, 185, 181, ..., 187, 187, 182],\n",
       "        ...,\n",
       "        [167, 167, 166, ..., 185, 185, 188],\n",
       "        [173, 167, 165, ..., 190, 196, 202],\n",
       "        [165, 167, 163, ..., 193, 192, 189]],\n",
       "\n",
       "       [[179, 184, 189, ..., 175, 179, 183],\n",
       "        [181, 185, 189, ..., 188, 182, 177],\n",
       "        [180, 183, 184, ..., 190, 185, 177],\n",
       "        ...,\n",
       "        [167, 167, 165, ..., 190, 193, 196],\n",
       "        [172, 169, 166, ..., 190, 189, 193],\n",
       "        [171, 167, 164, ..., 193, 197, 192]],\n",
       "\n",
       "       ...,\n",
       "\n",
       "       [[171, 170, 168, ..., 255, 255, 255],\n",
       "        [175, 185, 187, ..., 255, 255, 255],\n",
       "        [190, 192, 190, ..., 216, 222, 255],\n",
       "        ...,\n",
       "        [186, 186, 187, ..., 171, 167, 172],\n",
       "        [173, 177, 182, ..., 170, 172, 169],\n",
       "        [168, 169, 171, ..., 168, 169, 171]],\n",
       "\n",
       "       [[165, 167, 167, ..., 255, 255, 227],\n",
       "        [170, 179, 185, ..., 255, 255, 255],\n",
       "        [190, 192, 191, ..., 219, 218, 241],\n",
       "        ...,\n",
       "        [194, 190, 187, ..., 164, 165, 166],\n",
       "        [181, 176, 183, ..., 161, 165, 163],\n",
       "        [170, 169, 170, ..., 164, 164, 170]],\n",
       "\n",
       "       [[164, 163, 166, ..., 255, 255, 223],\n",
       "        [170, 172, 180, ..., 251, 255, 255],\n",
       "        [186, 189, 193, ..., 227, 247, 245],\n",
       "        ...,\n",
       "        [190, 190, 188, ..., 164, 169, 166],\n",
       "        [177, 182, 189, ..., 164, 169, 170],\n",
       "        [170, 173, 172, ..., 169, 171, 174]]], dtype=int32)"
      ]
     },
     "execution_count": 11,
     "metadata": {},
     "output_type": "execute_result"
    }
   ],
   "source": [
    "voxel"
   ]
  },
  {
   "cell_type": "code",
   "execution_count": 22,
   "metadata": {},
   "outputs": [],
   "source": [
    "ineed = voxel[34:66,34:66,34:66].astype(np.int32)"
   ]
  },
  {
   "cell_type": "code",
   "execution_count": 23,
   "metadata": {},
   "outputs": [
    {
     "data": {
      "text/plain": [
       "array([[[ 41,  44,  46, ...,  48,  49,  44],\n",
       "        [ 42,  40,  39, ...,  51,  49,  47],\n",
       "        [ 40,  46,  47, ...,  54,  44,  45],\n",
       "        ...,\n",
       "        [ 59,  54,  57, ...,  44,  43,  45],\n",
       "        [ 61,  55,  54, ...,  42,  42,  46],\n",
       "        [ 49,  45,  44, ...,  36,  37,  38]],\n",
       "\n",
       "       [[ 35,  73,  77, ...,  54,  56,  53],\n",
       "        [ 37,  58,  66, ...,  49,  46,  48],\n",
       "        [ 48,  58,  68, ...,  55,  45,  45],\n",
       "        ...,\n",
       "        [ 56,  52,  54, ...,  43,  45,  56],\n",
       "        [ 50,  53,  57, ...,  38,  39,  41],\n",
       "        [ 52,  56,  54, ...,  36,  40,  41]],\n",
       "\n",
       "       [[ 39,  57,  57, ...,  53,  53,  53],\n",
       "        [ 36,  47,  59, ...,  51,  50,  50],\n",
       "        [ 47,  50,  58, ...,  55,  53,  50],\n",
       "        ...,\n",
       "        [ 42,  42,  48, ...,  43,  42,  48],\n",
       "        [ 42,  45,  50, ...,  45,  45,  44],\n",
       "        [ 51,  50,  51, ...,  40,  42,  42]],\n",
       "\n",
       "       ...,\n",
       "\n",
       "       [[170, 110,  67, ..., 165,  75,  46],\n",
       "        [167, 107,  63, ...,  99,  49,  46],\n",
       "        [151,  91,  66, ...,  40,  45,  43],\n",
       "        ...,\n",
       "        [169, 160, 104, ...,  42, 120, 153],\n",
       "        [191, 165, 142, ...,  52, 120,  95],\n",
       "        [241, 173, 155, ...,  67,  84,  50]],\n",
       "\n",
       "       [[183, 168, 101, ..., 139,  43,  35],\n",
       "        [183, 166,  93, ...,  83,  44,  43],\n",
       "        [184, 158,  84, ...,  38,  41,  47],\n",
       "        ...,\n",
       "        [171, 168, 146, ...,  50,  88,  87],\n",
       "        [176, 165, 158, ...,  67, 123,  73],\n",
       "        [231, 174, 166, ..., 118, 152,  67]],\n",
       "\n",
       "       [[177, 181, 152, ...,  97,  43,  38],\n",
       "        [185, 186, 147, ...,  54,  46,  40],\n",
       "        [182, 188, 137, ...,  33,  33,  40],\n",
       "        ...,\n",
       "        [176, 172, 161, ...,  46,  54,  53],\n",
       "        [175, 172, 167, ...,  58,  68,  47],\n",
       "        [211, 177, 174, ..., 106, 116,  51]]], dtype=int32)"
      ]
     },
     "execution_count": 23,
     "metadata": {},
     "output_type": "execute_result"
    }
   ],
   "source": [
    "ineed"
   ]
  },
  {
   "cell_type": "code",
   "execution_count": 24,
   "metadata": {},
   "outputs": [
    {
     "data": {
      "text/plain": [
       "(32, 32, 32)"
      ]
     },
     "execution_count": 24,
     "metadata": {},
     "output_type": "execute_result"
    }
   ],
   "source": [
    "np.shape(ineed)"
   ]
  },
  {
   "cell_type": "code",
   "execution_count": null,
   "metadata": {},
   "outputs": [],
   "source": [
    "class ClfDataset(Dataset):\n",
    "\n",
    "    def __init__(self, train=True):\n",
    "        self.train = train\n",
    "        data_dir = './dataset/'\n",
    "        # choose the dataset\n",
    "        patients_train = os.listdir(data_dir+'train_val/')\n",
    "        patients_train = patients_train.sort(key= lambda x:int(x[:-4]))\n",
    "        patients_test = os.listdir(data_dir+'test/')\n",
    "        labels_df = pd.read_csv('./dataset/info.csv',index_col=0)\n",
    "\n",
    "        self.data_train = []\n",
    "        self.data_test = []\n",
    "        self.label = []\n",
    "\n",
    "        for num, patient in enumerate(patients_train):\n",
    "            patient_name = patient[0:-4]\n",
    "            label = labels_df.get_value(patient_name, 'lable')\n",
    "            path = data_dir + 'train_val/' + patient\n",
    "            img_data = np.load(path)\n",
    "            voxel = img_data['voxel'].astype(np.int32)\n",
    "            self.data_train.append(voxel)\n",
    "            self.label.append(label)\n",
    "\n",
    "        for num, patient in enumerate(patients_test):\n",
    "            path = data_dir + 'test/' + patient\n",
    "            img_data = np.load(path)\n",
    "            voxel = img_data['voxel'].astype(np.int32)\n",
    "            self.data_test.append(voxel)\n",
    "    \n",
    "    def __getitem__(self, item):\n",
    "        if self.train:\n",
    "            patient_data = self.data_train[item]\n",
    "            patient_label = self.label[item]\n",
    "            return patient_data, patient_label\n",
    "        else:\n",
    "            patient_data = self.data_test[item]\n",
    "            return patient_data\n",
    "        \n",
    "    def __len__(self):\n",
    "        return len(self.label)"
   ]
  }
 ],
 "metadata": {
  "kernelspec": {
   "display_name": "Python 3",
   "language": "python",
   "name": "python3"
  },
  "language_info": {
   "codemirror_mode": {
    "name": "ipython",
    "version": 3
   },
   "file_extension": ".py",
   "mimetype": "text/x-python",
   "name": "python",
   "nbconvert_exporter": "python",
   "pygments_lexer": "ipython3",
   "version": "3.7.3"
  }
 },
 "nbformat": 4,
 "nbformat_minor": 2
}
